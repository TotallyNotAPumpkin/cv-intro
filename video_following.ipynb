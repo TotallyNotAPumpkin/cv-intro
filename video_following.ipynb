{
 "cells": [
  {
   "cell_type": "code",
   "execution_count": 1,
   "metadata": {},
   "outputs": [],
   "source": [
    "import cv2\n",
    "from matplotlib import pyplot as plt\n",
    "import numpy as np\n",
    "import datetime\n",
    "import lane_detection\n",
    "import lane_following"
   ]
  },
  {
   "cell_type": "code",
   "execution_count": 2,
   "metadata": {},
   "outputs": [],
   "source": [
    "# code for video following\n",
    "def videoDetection(vid):\n",
    "    output_video = cv2.VideoWriter('output_videoo.avi', cv2.VideoWriter_fourcc(*'XVID'), 30, (1912, 535))\n",
    "    # video.release() #Save video to disk.\n",
    "    # total_frames = []\n",
    "    # Capture frame-by-frame\n",
    "    i = 1\n",
    "    while True:\n",
    "        ret, frame = vid.read()\n",
    "        if ret:\n",
    "            resized = (cv2.resize(frame, (1912, 1069)))\n",
    "            againResized = resized[int(535/2) : 535, 0 : 1912]\n",
    "        \n",
    "            lines = lane_detection.detect_lines(againResized, 30, 100, 3, 229, 13)\n",
    "            if lines is not None:\n",
    "                lanes = lane_detection.detect_lanes(againResized, lines)\n",
    "            else:\n",
    "                lanes = []\n",
    "            frame = lane_detection.draw_lanes(againResized, lanes)\n",
    "            # total_frames.append(frame)\n",
    "            output_video.write(frame)\n",
    "        i+=1\n",
    "        if i >= vid.get(cv2.CAP_PROP_FPS): break # NOTE TO CHECK THIS OVER BECAUSE I DUNNO IF ITS >= OR ==\n",
    "    output_video.release()"
   ]
  },
  {
   "cell_type": "code",
   "execution_count": 3,
   "metadata": {},
   "outputs": [],
   "source": [
    "vid = cv2.VideoCapture('AUV_Vid.mkv')\n",
    "videoDetection(vid)"
   ]
  }
 ],
 "metadata": {
  "kernelspec": {
   "display_name": "bluecv",
   "language": "python",
   "name": "python3"
  },
  "language_info": {
   "codemirror_mode": {
    "name": "ipython",
    "version": 3
   },
   "file_extension": ".py",
   "mimetype": "text/x-python",
   "name": "python",
   "nbconvert_exporter": "python",
   "pygments_lexer": "ipython3",
   "version": "3.9.2"
  },
  "orig_nbformat": 4
 },
 "nbformat": 4,
 "nbformat_minor": 2
}
