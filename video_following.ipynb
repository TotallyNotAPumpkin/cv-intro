{
 "cells": [
  {
   "cell_type": "code",
   "execution_count": null,
   "metadata": {},
   "outputs": [],
   "source": [
    "import cv2\n",
    "import matplotlib.pyplot as plt\n",
    "import numpy as np\n",
    "import datetime\n",
    "import lane_detection\n",
    "import lane_following\n",
    "import os"
   ]
  },
  {
   "cell_type": "code",
   "execution_count": null,
   "metadata": {},
   "outputs": [],
   "source": [
    "img = cv2.imread('516.jpg')\n",
    "resized = (cv2.resize(img, (1912, 1069)))\n",
    "h = resized.shape[0]\n",
    "w = resized.shape[1]\n",
    "againResized = resized[int(h/2) : h, 0 : w]\n",
    "lines = lane_detection.detect_lines(againResized, 50, 50, 3, 100, 10)\n",
    "weirdLines = lane_detection.draw_lines(againResized, lines)\n",
    "cv2.imwrite('aaaaaa.jpg', weirdLines)\n",
    "plt.imshow(weirdLines)"
   ]
  },
  {
   "cell_type": "code",
   "execution_count": null,
   "metadata": {},
   "outputs": [],
   "source": [
    "vid = cv2.VideoCapture('AUV_Vid.mkv')\n",
    "vid.get(cv2.CAP_PROP_FPS)"
   ]
  },
  {
   "cell_type": "code",
   "execution_count": null,
   "metadata": {},
   "outputs": [],
   "source": [
    "# def writeImages(vid, start = 1, images = 10):\n",
    "#     dirname = 'vidFrames'\n",
    "#     if not os.path.exists(dirname):\n",
    "#         os.mkdir(dirname)\n",
    "    \n",
    "#     if (start + images) > vid.get(cv2.CAP_PROP_FRAME_COUNT):\n",
    "#         raise Exception(\"Number of frames must not exceed number of frames in video.\")\n",
    "\n",
    "#     count = 1\n",
    "#     ret, frame = vid.read()\n",
    "\n",
    "#     # change comments for set number of frames\n",
    "#     while True:\n",
    "#         if ret:\n",
    "#             print(ret)\n",
    "#             print(f\"Frame: {count}\")\n",
    "#             if count >= start and count < (start + images):\n",
    "#                 cv2.imwrite(os.path.join(dirname, str(count)+\".jpg\"), frame)\n",
    "#             count += 1\n",
    "#             ret, frame = vid.read()\n",
    "#         else:\n",
    "#             ret, frame = vid.read()   \n",
    "#             if ret:\n",
    "#                 if count >= start and count < (start + images):\n",
    "#                     cv2.imwrite(os.path.join(dirname, str(count)+\".jpg\"), frame)\n",
    "#                 print(ret)\n",
    "#                 print(f\"Frame: {count}\")\n",
    "#                 count += 1\n",
    "#                 ret, frame = vid.read()\n",
    "#             else: break\n",
    "#         if count > (start + images): break"
   ]
  },
  {
   "cell_type": "code",
   "execution_count": null,
   "metadata": {},
   "outputs": [],
   "source": [
    "# writeImages(vid, 2170, 10)"
   ]
  },
  {
   "cell_type": "code",
   "execution_count": null,
   "metadata": {},
   "outputs": [],
   "source": [
    "\n",
    "# lane_following.videoDetectionFrames(vid, 100)\n",
    "lane_following.videoDetection(vid)"
   ]
  }
 ],
 "metadata": {
  "kernelspec": {
   "display_name": "bluecv",
   "language": "python",
   "name": "python3"
  },
  "language_info": {
   "codemirror_mode": {
    "name": "ipython",
    "version": 3
   },
   "file_extension": ".py",
   "mimetype": "text/x-python",
   "name": "python",
   "nbconvert_exporter": "python",
   "pygments_lexer": "ipython3",
   "version": "3.9.2"
  },
  "orig_nbformat": 4
 },
 "nbformat": 4,
 "nbformat_minor": 2
}
